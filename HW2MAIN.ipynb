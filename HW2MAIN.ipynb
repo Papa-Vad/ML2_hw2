{
 "cells": [
  {
   "cell_type": "markdown",
   "id": "4578c30c",
   "metadata": {},
   "source": [
    "# Making the model and fitting it"
   ]
  },
  {
   "cell_type": "code",
   "execution_count": 1,
   "id": "42e16b27",
   "metadata": {},
   "outputs": [],
   "source": [
    "#pip install datasets"
   ]
  },
  {
   "cell_type": "code",
   "execution_count": 2,
   "id": "4feb475c",
   "metadata": {},
   "outputs": [
    {
     "name": "stderr",
     "output_type": "stream",
     "text": [
      "D:\\Anaconda\\lib\\site-packages\\scipy\\__init__.py:146: UserWarning: A NumPy version >=1.16.5 and <1.23.0 is required for this version of SciPy (detected version 1.26.1\n",
      "  warnings.warn(f\"A NumPy version >={np_minversion} and <{np_maxversion}\"\n"
     ]
    }
   ],
   "source": [
    "import numpy as np\n",
    "import tensorflow as tf\n",
    "from datasets import load_dataset\n",
    "from tensorflow.keras.applications import VGG16\n",
    "from tensorflow.keras.layers import Dense, Flatten, Input\n",
    "from tensorflow.keras.models import Model\n",
    "from tensorflow.keras.optimizers import Adam\n",
    "from tensorflow.keras.preprocessing.image import img_to_array\n",
    "\n",
    "np.random.seed(1)\n",
    "tf.random.set_seed(1)"
   ]
  },
  {
   "cell_type": "code",
   "execution_count": 3,
   "id": "30761293",
   "metadata": {},
   "outputs": [],
   "source": [
    "def preprocess(dataset): \n",
    "    images = []\n",
    "    labels = []\n",
    "    for item in dataset:\n",
    "        image_data = img_to_array(item['image'].convert('RGB'))\n",
    "        image_data = tf.image.resize(image_data, (224, 224))\n",
    "        images.append(image_data)\n",
    "        labels.append(item['labels'])\n",
    "\n",
    "    return np.array(images), np.array(labels)\n",
    "\n",
    "# Load and preprocess the 'Bingsu/Cat_and_Dog' dataset\n",
    "bingsu_cat_dog_dataset = load_dataset(\"Bingsu/Cat_and_Dog\")\n",
    "train_images_modified, train_labels_modified = preprocess(bingsu_cat_dog_dataset['train'])\n",
    "test_images_modified, test_labels_modified = preprocess(bingsu_cat_dog_dataset['test'])"
   ]
  },
  {
   "cell_type": "code",
   "execution_count": 4,
   "id": "efbd826c",
   "metadata": {},
   "outputs": [
    {
     "name": "stdout",
     "output_type": "stream",
     "text": [
      "Epoch 1/3\n",
      "200/200 [==============================] - 346s 2s/step - loss: 17.6023 - accuracy: 0.9391 - val_loss: 1.6682 - val_accuracy: 0.8519\n",
      "Epoch 2/3\n",
      "200/200 [==============================] - 352s 2s/step - loss: 0.3418 - accuracy: 0.9845 - val_loss: 0.5796 - val_accuracy: 0.9475\n",
      "Epoch 3/3\n",
      "200/200 [==============================] - 349s 2s/step - loss: 0.1164 - accuracy: 0.9911 - val_loss: 0.7728 - val_accuracy: 0.9362\n"
     ]
    },
    {
     "data": {
      "text/plain": [
       "<keras.src.callbacks.History at 0x2a6b1987e50>"
      ]
     },
     "execution_count": 4,
     "metadata": {},
     "output_type": "execute_result"
    }
   ],
   "source": [
    "# Taking VGG16 model as our basement\n",
    "vgg16_base = VGG16(weights='imagenet', include_top=False, input_tensor=Input(shape=(224, 224, 3)))\n",
    "vgg16_base.trainable = False\n",
    "\n",
    "# Modified model for catNdog\n",
    "custom_flatten = Flatten()(vgg16_base.output)\n",
    "custom_dense1 = Dense(512, activation='relu')(custom_flatten)\n",
    "custom_output = Dense(1, activation='sigmoid')(custom_dense1)  \n",
    "modified_model = Model(inputs=vgg16_base.input, outputs=custom_output)\n",
    "modified_model.compile(optimizer=Adam(learning_rate=0.01), loss='binary_crossentropy', metrics=['accuracy'])\n",
    "\n",
    "# Train 3 epochs not to overfit \n",
    "modified_model.fit(train_images_modified, train_labels_modified, batch_size=32, epochs=3, validation_split=0.2)"
   ]
  },
  {
   "cell_type": "markdown",
   "id": "263d7980",
   "metadata": {},
   "source": [
    "# Final Result"
   ]
  },
  {
   "cell_type": "code",
   "execution_count": 5,
   "id": "be3360d6",
   "metadata": {},
   "outputs": [
    {
     "name": "stdout",
     "output_type": "stream",
     "text": [
      "63/63 [==============================] - 83s 1s/step - loss: 0.4490 - accuracy: 0.9675\n",
      "The test accuracy is 0.9674999713897705\n"
     ]
    }
   ],
   "source": [
    "test_accuracy = modified_model.evaluate(test_images_modified, test_labels_modified)[1]\n",
    "print(\"The test accuracy is\",test_accuracy)"
   ]
  },
  {
   "cell_type": "code",
   "execution_count": null,
   "id": "610f91fd",
   "metadata": {},
   "outputs": [],
   "source": []
  }
 ],
 "metadata": {
  "kernelspec": {
   "display_name": "Python 3 (ipykernel)",
   "language": "python",
   "name": "python3"
  },
  "language_info": {
   "codemirror_mode": {
    "name": "ipython",
    "version": 3
   },
   "file_extension": ".py",
   "mimetype": "text/x-python",
   "name": "python",
   "nbconvert_exporter": "python",
   "pygments_lexer": "ipython3",
   "version": "3.9.12"
  }
 },
 "nbformat": 4,
 "nbformat_minor": 5
}
